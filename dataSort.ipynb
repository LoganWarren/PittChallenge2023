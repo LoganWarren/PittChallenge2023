{
 "cells": [
  {
   "cell_type": "markdown",
   "id": "d4ca3f75",
   "metadata": {},
   "source": [
    "## Formating Example Data \n",
    "### For Model Training and BlockChain Testing"
   ]
  },
  {
   "cell_type": "code",
   "execution_count": 30,
   "id": "132e6605",
   "metadata": {},
   "outputs": [],
   "source": [
    "#Pandas for data organization and filtering\n",
    "import pandas as pd\n",
    "import json\n",
    "import numpy as np"
   ]
  },
  {
   "cell_type": "code",
   "execution_count": 31,
   "id": "8691731a",
   "metadata": {},
   "outputs": [],
   "source": [
    "#Patient info Databases .iloc[: , 1:] removes row_id from each df\n",
    "#Datasets from MIMIC-III Clinical Database Demo Located at: https://physionet.org/content/mimiciii-demo/1.4/\n",
    "DRGCODES_df = pd.read_csv(\"Datasets/mimic-iii-clinical-database-demo-1.4/DRGCODES.csv\").iloc[: , 1:]\n",
    "CPTEVENTS_df = pd.read_csv(\"Datasets/mimic-iii-clinical-database-demo-1.4/CPTEVENTS.csv\").iloc[: , 1:]\n",
    "PATIENTS_df = pd.read_csv(\"Datasets/mimic-iii-clinical-database-demo-1.4/PATIENTS.csv\").iloc[: , 1:4]\n",
    "PRESCRIPTIONS_df = pd.read_csv(\"Datasets/mimic-iii-clinical-database-demo-1.4/PRESCRIPTIONS.csv\").iloc[: , 1:]\n",
    "DIAGNOSES_df = pd.read_csv(\"Datasets/mimic-iii-clinical-database-demo-1.4/DIAGNOSES_ICD.csv\").iloc[: , 1:]"
   ]
  },
  {
   "cell_type": "code",
   "execution_count": 32,
   "id": "5bee1bec",
   "metadata": {},
   "outputs": [],
   "source": [
    "# Reference Data\n",
    "\n",
    "# IDC9 Codes lookup database from: https://www.fda.gov/drugs/drug-approvals-and-databases/national-drug-code-directory\n",
    "ICD9CODES_df = pd.read_csv(\"Datasets/ReferenceDataSets/icd9dx2015.csv\")\n"
   ]
  },
  {
   "cell_type": "code",
   "execution_count": 33,
   "id": "d20e400c",
   "metadata": {},
   "outputs": [],
   "source": [
    "#Adds new long description diagnoses column\n",
    "DIAGNOSES_df['diagnosis'] = \"\"\n",
    "\n",
    "#Translates icd9 codes to diagnoses and stores it in \"diagnosis\" column\n",
    "icd9_to_description = ICD9CODES_df.set_index('dgns_cd')['longdesc']\n",
    "DIAGNOSES_df['diagnosis'] = DIAGNOSES_df['icd9_code'].map(icd9_to_description)\n",
    "\n",
    "#Removes nonpertinent data\n",
    "DIAGNOSES_df = DIAGNOSES_df.iloc[:, [0] + list(range(3, DIAGNOSES_df.shape[1]))]\n",
    "CPTEVENTS_df  = CPTEVENTS_df.iloc[:, [0] + list(range(7, 10)) + list(range(11, CPTEVENTS_df.shape[1]))]\n",
    "DRGCODES_df = DRGCODES_df.iloc[:, [0] + list(range(3, 5)) + list(range(7, DRGCODES_df.shape[1]))]\n",
    "PRESCRIPTIONS_df = PRESCRIPTIONS_df.iloc[:, [0] + list(range(3, PRESCRIPTIONS_df.shape[1]))]"
   ]
  },
  {
   "cell_type": "code",
   "execution_count": null,
   "id": "74aba3dc",
   "metadata": {
    "scrolled": true
   },
   "outputs": [],
   "source": []
  },
  {
   "cell_type": "code",
   "execution_count": null,
   "id": "e917f9f5",
   "metadata": {},
   "outputs": [],
   "source": []
  },
  {
   "cell_type": "code",
   "execution_count": 34,
   "id": "fdb957c0",
   "metadata": {
    "scrolled": true
   },
   "outputs": [
    {
     "name": "stdout",
     "output_type": "stream",
     "text": [
      "Index(['subject_id', 'drg_code', 'description'], dtype='object')\n",
      "Index(['subject_id', 'ticket_id_seq', 'sectionheader', 'subsectionheader'], dtype='object')\n",
      "Index(['subject_id', 'gender', 'dob'], dtype='object')\n",
      "Index(['subject_id', 'startdate', 'enddate', 'drug_type', 'drug',\n",
      "       'drug_name_poe', 'drug_name_generic', 'formulary_drug_cd', 'gsn', 'ndc',\n",
      "       'prod_strength', 'dose_val_rx', 'dose_unit_rx', 'form_val_disp',\n",
      "       'form_unit_disp', 'route'],\n",
      "      dtype='object')\n",
      "Index(['subject_id', 'icd9_code', 'diagnosis'], dtype='object')\n"
     ]
    }
   ],
   "source": [
    "#For Testing\n",
    "\n",
    "print(DRGCODES_df.columns)\n",
    "print(CPTEVENTS_df.columns)\n",
    "print(PATIENTS_df.columns)\n",
    "print(PRESCRIPTIONS_df.columns)\n",
    "print(DIAGNOSES_df.columns)"
   ]
  },
  {
   "cell_type": "code",
   "execution_count": null,
   "id": "4187e546",
   "metadata": {
    "scrolled": true
   },
   "outputs": [],
   "source": []
  },
  {
   "cell_type": "code",
   "execution_count": 26,
   "id": "10b5c56b",
   "metadata": {},
   "outputs": [
    {
     "data": {
      "text/html": [
       "<div>\n",
       "<style scoped>\n",
       "    .dataframe tbody tr th:only-of-type {\n",
       "        vertical-align: middle;\n",
       "    }\n",
       "\n",
       "    .dataframe tbody tr th {\n",
       "        vertical-align: top;\n",
       "    }\n",
       "\n",
       "    .dataframe thead th {\n",
       "        text-align: right;\n",
       "    }\n",
       "</style>\n",
       "<table border=\"1\" class=\"dataframe\">\n",
       "  <thead>\n",
       "    <tr style=\"text-align: right;\">\n",
       "      <th></th>\n",
       "      <th>subject_id</th>\n",
       "      <th>ticket_id_seq</th>\n",
       "      <th>sectionheader</th>\n",
       "      <th>subsectionheader</th>\n",
       "    </tr>\n",
       "  </thead>\n",
       "  <tbody>\n",
       "    <tr>\n",
       "      <th>0</th>\n",
       "      <td>10117</td>\n",
       "      <td>1.0</td>\n",
       "      <td>Evaluation and management</td>\n",
       "      <td>Consultations</td>\n",
       "    </tr>\n",
       "    <tr>\n",
       "      <th>1</th>\n",
       "      <td>10117</td>\n",
       "      <td>2.0</td>\n",
       "      <td>Evaluation and management</td>\n",
       "      <td>Hospital inpatient services</td>\n",
       "    </tr>\n",
       "    <tr>\n",
       "      <th>2</th>\n",
       "      <td>10117</td>\n",
       "      <td>3.0</td>\n",
       "      <td>Medicine</td>\n",
       "      <td>Dialysis</td>\n",
       "    </tr>\n",
       "    <tr>\n",
       "      <th>3</th>\n",
       "      <td>10117</td>\n",
       "      <td>4.0</td>\n",
       "      <td>Evaluation and management</td>\n",
       "      <td>Hospital inpatient services</td>\n",
       "    </tr>\n",
       "    <tr>\n",
       "      <th>4</th>\n",
       "      <td>10111</td>\n",
       "      <td>1.0</td>\n",
       "      <td>Evaluation and management</td>\n",
       "      <td>Consultations</td>\n",
       "    </tr>\n",
       "    <tr>\n",
       "      <th>...</th>\n",
       "      <td>...</td>\n",
       "      <td>...</td>\n",
       "      <td>...</td>\n",
       "      <td>...</td>\n",
       "    </tr>\n",
       "    <tr>\n",
       "      <th>1574</th>\n",
       "      <td>42281</td>\n",
       "      <td>NaN</td>\n",
       "      <td>Medicine</td>\n",
       "      <td>Pulmonary</td>\n",
       "    </tr>\n",
       "    <tr>\n",
       "      <th>1575</th>\n",
       "      <td>42302</td>\n",
       "      <td>NaN</td>\n",
       "      <td>Medicine</td>\n",
       "      <td>Pulmonary</td>\n",
       "    </tr>\n",
       "    <tr>\n",
       "      <th>1576</th>\n",
       "      <td>40595</td>\n",
       "      <td>NaN</td>\n",
       "      <td>Medicine</td>\n",
       "      <td>Pulmonary</td>\n",
       "    </tr>\n",
       "    <tr>\n",
       "      <th>1577</th>\n",
       "      <td>40595</td>\n",
       "      <td>NaN</td>\n",
       "      <td>Medicine</td>\n",
       "      <td>Pulmonary</td>\n",
       "    </tr>\n",
       "    <tr>\n",
       "      <th>1578</th>\n",
       "      <td>40687</td>\n",
       "      <td>NaN</td>\n",
       "      <td>Medicine</td>\n",
       "      <td>Pulmonary</td>\n",
       "    </tr>\n",
       "  </tbody>\n",
       "</table>\n",
       "<p>1579 rows × 4 columns</p>\n",
       "</div>"
      ],
      "text/plain": [
       "      subject_id  ticket_id_seq              sectionheader  \\\n",
       "0          10117            1.0  Evaluation and management   \n",
       "1          10117            2.0  Evaluation and management   \n",
       "2          10117            3.0                   Medicine   \n",
       "3          10117            4.0  Evaluation and management   \n",
       "4          10111            1.0  Evaluation and management   \n",
       "...          ...            ...                        ...   \n",
       "1574       42281            NaN                   Medicine   \n",
       "1575       42302            NaN                   Medicine   \n",
       "1576       40595            NaN                   Medicine   \n",
       "1577       40595            NaN                   Medicine   \n",
       "1578       40687            NaN                   Medicine   \n",
       "\n",
       "                 subsectionheader  \n",
       "0                   Consultations  \n",
       "1     Hospital inpatient services  \n",
       "2                        Dialysis  \n",
       "3     Hospital inpatient services  \n",
       "4                   Consultations  \n",
       "...                           ...  \n",
       "1574                    Pulmonary  \n",
       "1575                    Pulmonary  \n",
       "1576                    Pulmonary  \n",
       "1577                    Pulmonary  \n",
       "1578                    Pulmonary  \n",
       "\n",
       "[1579 rows x 4 columns]"
      ]
     },
     "execution_count": 26,
     "metadata": {},
     "output_type": "execute_result"
    }
   ],
   "source": [
    "CPTEVENTS_df"
   ]
  },
  {
   "cell_type": "code",
   "execution_count": 35,
   "id": "4d17bb21",
   "metadata": {
    "scrolled": true
   },
   "outputs": [],
   "source": [
    "subject_ids = PATIENTS_df['subject_id'].unique()\n",
    "\n",
    "DRGCODES_df_filtered = DRGCODES_df[DRGCODES_df['subject_id'].isin(subject_ids)]\n",
    "CPTEVENTS_df_filtered = CPTEVENTS_df[CPTEVENTS_df['subject_id'].isin(subject_ids)]\n",
    "PRESCRIPTIONS_df_filtered = PRESCRIPTIONS_df[PRESCRIPTIONS_df['subject_id'].isin(subject_ids)]\n",
    "DIAGNOSES_df_filtered = DIAGNOSES_df[DIAGNOSES_df['subject_id'].isin(subject_ids)]\n"
   ]
  },
  {
   "cell_type": "code",
   "execution_count": 36,
   "id": "a02d8e13",
   "metadata": {},
   "outputs": [],
   "source": [
    "def default(o):\n",
    "    if isinstance(o, np.int64):\n",
    "        return int(o)\n",
    "    if isinstance(o, np.float64):\n",
    "        return float(o)\n",
    "    raise TypeError\n",
    "\n",
    "for subject_id in subject_ids:\n",
    "    patient_info = PATIENTS_df[PATIENTS_df['subject_id'] == subject_id].iloc[0].to_dict()\n",
    "    \n",
    "    json_object = {\n",
    "        \"subject_id\": subject_id,\n",
    "        \"gender\": patient_info['gender'],\n",
    "        \"dob\": patient_info['dob'],\n",
    "        \"DRGENTRIES\": DRGCODES_df_filtered[DRGCODES_df_filtered['subject_id'] == subject_id][['drg_code', 'description']].to_dict('records'),\n",
    "        \"PRESCRIPTIONS\": PRESCRIPTIONS_df_filtered[PRESCRIPTIONS_df_filtered['subject_id'] == subject_id].drop(columns=['subject_id']).to_dict('records'),\n",
    "        \"CPTEVENTS\": CPTEVENTS_df_filtered[CPTEVENTS_df_filtered['subject_id'] == subject_id].drop(columns=['subject_id']).to_dict('records'),\n",
    "        \"DIAGNOSES\": DIAGNOSES_df_filtered[DIAGNOSES_df_filtered['subject_id'] == subject_id][['icd9_code', 'diagnosis']].to_dict('records')\n",
    "    }\n",
    "\n",
    "    # Save the JSON object to a file\n",
    "    file_name = f'DemoData{subject_id}.json'\n",
    "    with open(file_name, 'w') as f:\n",
    "        json.dump(json_object, f, indent=4, default=default)\n",
    "\n",
    "    json_objects.append(json_object)"
   ]
  },
  {
   "cell_type": "code",
   "execution_count": 20,
   "id": "d1365893",
   "metadata": {},
   "outputs": [],
   "source": []
  },
  {
   "cell_type": "code",
   "execution_count": null,
   "id": "63f8db92",
   "metadata": {},
   "outputs": [],
   "source": []
  }
 ],
 "metadata": {
  "kernelspec": {
   "display_name": "Python 3 (ipykernel)",
   "language": "python",
   "name": "python3"
  },
  "language_info": {
   "codemirror_mode": {
    "name": "ipython",
    "version": 3
   },
   "file_extension": ".py",
   "mimetype": "text/x-python",
   "name": "python",
   "nbconvert_exporter": "python",
   "pygments_lexer": "ipython3",
   "version": "3.11.4"
  }
 },
 "nbformat": 4,
 "nbformat_minor": 5
}
